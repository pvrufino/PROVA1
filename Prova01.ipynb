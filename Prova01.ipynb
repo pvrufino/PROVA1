{
 "cells": [
  {
   "cell_type": "code",
   "execution_count": 19,
   "id": "c1e5d74f-82e7-4a0c-a0f9-c6102454ac2d",
   "metadata": {},
   "outputs": [
    {
     "name": "stdin",
     "output_type": "stream",
     "text": [
      "Digite o primeiro número:  5\n",
      "Digite o segundo número:  10\n",
      "Digite o terceiro número:  10\n"
     ]
    },
    {
     "name": "stdout",
     "output_type": "stream",
     "text": [
      "Média dos dois maiores: 10.0\n"
     ]
    }
   ],
   "source": [
    "n1 = int(input(\"Digite o primeiro número: \"))\n",
    "n2 = int(input(\"Digite o segundo número: \"))\n",
    "n3 = int(input(\"Digite o terceiro número: \"))\n",
    "\n",
    "if n1 <= n2 and n1 <= n3:\n",
    "    menor = n1\n",
    "elif n2 <= n2 and n2 <= n3:\n",
    "    menor = n2\n",
    "else:\n",
    "    menor = n3\n",
    "\n",
    "soma_dois_maiores = n1 + n2 + n3 - menor\n",
    "media = soma_dois_maiores / 2\n",
    "print(\"Média dos dois maiores:\", media)"
   ]
  },
  {
   "cell_type": "code",
   "execution_count": null,
   "id": "77ebce8a-72c8-41e0-815f-4495b4463b84",
   "metadata": {},
   "outputs": [],
   "source": []
  }
 ],
 "metadata": {
  "kernelspec": {
   "display_name": "Python [conda env:base] *",
   "language": "python",
   "name": "conda-base-py"
  },
  "language_info": {
   "codemirror_mode": {
    "name": "ipython",
    "version": 3
   },
   "file_extension": ".py",
   "mimetype": "text/x-python",
   "name": "python",
   "nbconvert_exporter": "python",
   "pygments_lexer": "ipython3",
   "version": "3.12.7"
  }
 },
 "nbformat": 4,
 "nbformat_minor": 5
}
